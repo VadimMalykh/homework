{
 "cells": [
  {
   "cell_type": "markdown",
   "metadata": {},
   "source": [
    "http://rail.eecs.berkeley.edu/deeprlcourse/static/homeworks/hw1.pdf"
   ]
  },
  {
   "cell_type": "code",
   "execution_count": 1,
   "metadata": {},
   "outputs": [
    {
     "name": "stderr",
     "output_type": "stream",
     "text": [
      "Using TensorFlow backend.\n"
     ]
    }
   ],
   "source": [
    "import pickle\n",
    "import keras\n",
    "import numpy as np\n",
    "import os"
   ]
  },
  {
   "cell_type": "code",
   "execution_count": 2,
   "metadata": {},
   "outputs": [],
   "source": [
    "# env_name = 'RoboschoolHalfCheetah-v1'\n",
    "env_name = \"RoboschoolHumanoid-v1\"\n",
    "rollouts_dir = 'expert_data'\n",
    "roll_out_file = os.path.join(rollouts_dir, env_name + '_dagger_3.pkl')\n",
    "model_name = 'model_' + env_name + '_dagger_3'"
   ]
  },
  {
   "cell_type": "code",
   "execution_count": 3,
   "metadata": {},
   "outputs": [],
   "source": [
    "# read roll-outs\n",
    "with open(roll_out_file, 'rb') as f:\n",
    "    roll_outs = pickle.loads(f.read())"
   ]
  },
  {
   "cell_type": "code",
   "execution_count": 4,
   "metadata": {},
   "outputs": [
    {
     "name": "stdout",
     "output_type": "stream",
     "text": [
      "(1982416, 44)\n",
      "(1982416, 17)\n"
     ]
    }
   ],
   "source": [
    "print(roll_outs['observations'].shape)\n",
    "print(roll_outs['actions'].shape)"
   ]
  },
  {
   "cell_type": "code",
   "execution_count": 5,
   "metadata": {},
   "outputs": [],
   "source": [
    "from keras.layers import Input, Dense\n",
    "from keras.models import Model\n",
    "import math\n",
    "\n",
    "def create_model(input_size, output_size):\n",
    "    inputs = Input(shape=(input_size,))\n",
    "    \n",
    "    x = Dense(input_size * 2, activation='relu')(inputs)\n",
    "#     x = keras.layers.Dropout(0.1)(x)\n",
    "#     x = Dense(50, activation='relu')(x)\n",
    "#     x = keras.layers.Dropout(0.2)(x)\n",
    "#     x = Dense(20, activation='relu')(x)\n",
    "    x = Dense(math.ceil(input_size / 2), activation='relu')(x)\n",
    "    \n",
    "    predictions = Dense(output_size)(x)\n",
    "    \n",
    "    return Model(inputs=inputs, outputs=predictions)"
   ]
  },
  {
   "cell_type": "code",
   "execution_count": 6,
   "metadata": {},
   "outputs": [],
   "source": [
    "model = create_model(roll_outs['observations'].shape[1], roll_outs['actions'].shape[1])"
   ]
  },
  {
   "cell_type": "code",
   "execution_count": 7,
   "metadata": {},
   "outputs": [
    {
     "name": "stdout",
     "output_type": "stream",
     "text": [
      "_________________________________________________________________\n",
      "Layer (type)                 Output Shape              Param #   \n",
      "=================================================================\n",
      "input_1 (InputLayer)         (None, 44)                0         \n",
      "_________________________________________________________________\n",
      "dense_1 (Dense)              (None, 88)                3960      \n",
      "_________________________________________________________________\n",
      "dense_2 (Dense)              (None, 22)                1958      \n",
      "_________________________________________________________________\n",
      "dense_3 (Dense)              (None, 17)                391       \n",
      "=================================================================\n",
      "Total params: 6,309\n",
      "Trainable params: 6,309\n",
      "Non-trainable params: 0\n",
      "_________________________________________________________________\n"
     ]
    }
   ],
   "source": [
    "model.summary()"
   ]
  },
  {
   "cell_type": "code",
   "execution_count": 8,
   "metadata": {},
   "outputs": [],
   "source": [
    "model.compile(loss='mean_squared_error', optimizer='adam')"
   ]
  },
  {
   "cell_type": "code",
   "execution_count": 9,
   "metadata": {},
   "outputs": [],
   "source": [
    "X = roll_outs['observations']\n",
    "Y = roll_outs['actions']"
   ]
  },
  {
   "cell_type": "code",
   "execution_count": 10,
   "metadata": {},
   "outputs": [
    {
     "name": "stdout",
     "output_type": "stream",
     "text": [
      "Epoch 1/20\n",
      "1982416/1982416 [==============================] - 13s 7us/step - loss: 0.0280\n",
      "Epoch 2/20\n",
      "1982416/1982416 [==============================] - 12s 6us/step - loss: 0.0165\n",
      "Epoch 3/20\n",
      "1982416/1982416 [==============================] - 12s 6us/step - loss: 0.0151\n",
      "Epoch 4/20\n",
      "1982416/1982416 [==============================] - 20s 10us/step - loss: 0.0145\n",
      "Epoch 5/20\n",
      "1982416/1982416 [==============================] - 12s 6us/step - loss: 0.0141\n",
      "Epoch 6/20\n",
      "1982416/1982416 [==============================] - 12s 6us/step - loss: 0.0138\n",
      "Epoch 7/20\n",
      "1982416/1982416 [==============================] - 17s 9us/step - loss: 0.0136\n",
      "Epoch 8/20\n",
      "1982416/1982416 [==============================] - 12s 6us/step - loss: 0.0135\n",
      "Epoch 9/20\n",
      "1982416/1982416 [==============================] - 11s 6us/step - loss: 0.0133\n",
      "Epoch 10/20\n",
      "1982416/1982416 [==============================] - 11s 6us/step - loss: 0.0132\n",
      "Epoch 11/20\n",
      "1982416/1982416 [==============================] - 11s 6us/step - loss: 0.0131\n",
      "Epoch 12/20\n",
      "1982416/1982416 [==============================] - 11s 6us/step - loss: 0.0130\n",
      "Epoch 13/20\n",
      "1982416/1982416 [==============================] - 19s 9us/step - loss: 0.0129\n",
      "Epoch 14/20\n",
      "1982416/1982416 [==============================] - 12s 6us/step - loss: 0.0129\n",
      "Epoch 15/20\n",
      "1982416/1982416 [==============================] - 12s 6us/step - loss: 0.0128\n",
      "Epoch 16/20\n",
      "1982416/1982416 [==============================] - 26s 13us/step - loss: 0.0127\n",
      "Epoch 17/20\n",
      "1982416/1982416 [==============================] - 12s 6us/step - loss: 0.0127\n",
      "Epoch 18/20\n",
      "1982416/1982416 [==============================] - 12s 6us/step - loss: 0.0126\n",
      "Epoch 19/20\n",
      "1982416/1982416 [==============================] - 19s 9us/step - loss: 0.0126\n",
      "Epoch 20/20\n",
      "1982416/1982416 [==============================] - 18s 9us/step - loss: 0.0126\n"
     ]
    },
    {
     "data": {
      "text/plain": [
       "<keras.callbacks.History at 0x7f5715352198>"
      ]
     },
     "execution_count": 10,
     "metadata": {},
     "output_type": "execute_result"
    }
   ],
   "source": [
    "model.fit(X, Y, epochs=20, batch_size=256)"
   ]
  },
  {
   "cell_type": "code",
   "execution_count": 11,
   "metadata": {},
   "outputs": [],
   "source": [
    "model.save_weights(model_name)"
   ]
  },
  {
   "cell_type": "code",
   "execution_count": 12,
   "metadata": {},
   "outputs": [],
   "source": [
    "# model.load_weights(model_name)"
   ]
  },
  {
   "cell_type": "code",
   "execution_count": 13,
   "metadata": {},
   "outputs": [
    {
     "name": "stdout",
     "output_type": "stream",
     "text": [
      "\u001b[33mWARN: gym.spaces.Box autodetected dtype as <class 'numpy.float32'>. Please provide explicit dtype.\u001b[0m\n",
      "\u001b[33mWARN: gym.spaces.Box autodetected dtype as <class 'numpy.float32'>. Please provide explicit dtype.\u001b[0m\n",
      "\u001b[33mWARN: Environment '<class 'roboschool.gym_mujoco_walkers.RoboschoolHumanoid'>' has deprecated methods '_step' and '_reset' rather than 'step' and 'reset'. Compatibility code invoked. Set _gym_disable_underscore_compat = True to disable this behavior.\u001b[0m\n"
     ]
    },
    {
     "name": "stderr",
     "output_type": "stream",
     "text": [
      "/data/apps/anaconda3/envs/cs294/lib/python3.6/site-packages/gym/envs/registration.py:14: PkgResourcesDeprecationWarning: Parameters to load are deprecated.  Call .resolve and .require separately.\n",
      "  result = entry_point.load(False)\n"
     ]
    }
   ],
   "source": [
    "# test our model with actual environment\n",
    "import gym\n",
    "import roboschool\n",
    "env = gym.make(env_name)"
   ]
  },
  {
   "cell_type": "code",
   "execution_count": 14,
   "metadata": {},
   "outputs": [],
   "source": [
    "rewards = []\n",
    "observations = []\n",
    "for _ in range(1000):\n",
    "    obs = env.reset()\n",
    "    reward = 0\n",
    "    done = False\n",
    "    while not done:\n",
    "        env.render(\"human\")\n",
    "        observations.append(obs)\n",
    "        obs, r, done, _ = env.step(model.predict(obs.reshape((1,-1))).reshape((-1)))\n",
    "        reward = reward + r\n",
    "    rewards.append(reward)\n",
    "env.close()"
   ]
  },
  {
   "cell_type": "code",
   "execution_count": 15,
   "metadata": {},
   "outputs": [],
   "source": [
    "expert_data = {'observations': np.array(observations)}\n",
    "with open(os.path.join(rollouts_dir, env_name + '_results.pkl'), 'wb') as f:\n",
    "    pickle.dump(expert_data, f, pickle.HIGHEST_PROTOCOL)"
   ]
  },
  {
   "cell_type": "code",
   "execution_count": 16,
   "metadata": {},
   "outputs": [
    {
     "name": "stdout",
     "output_type": "stream",
     "text": [
      "4462.383043231107 -119.61513604763313 4726.527235555795 998.3488382907334\n"
     ]
    }
   ],
   "source": [
    "print(np.mean(rewards), np.min(rewards), np.max(rewards), np.std(rewards))"
   ]
  },
  {
   "cell_type": "code",
   "execution_count": null,
   "metadata": {},
   "outputs": [],
   "source": []
  }
 ],
 "metadata": {
  "kernelspec": {
   "display_name": "Python 3",
   "language": "python",
   "name": "python3"
  },
  "language_info": {
   "codemirror_mode": {
    "name": "ipython",
    "version": 3
   },
   "file_extension": ".py",
   "mimetype": "text/x-python",
   "name": "python",
   "nbconvert_exporter": "python",
   "pygments_lexer": "ipython3",
   "version": "3.6.7"
  }
 },
 "nbformat": 4,
 "nbformat_minor": 2
}
