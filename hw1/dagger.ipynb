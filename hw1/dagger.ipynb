{
 "cells": [
  {
   "cell_type": "code",
   "execution_count": 1,
   "metadata": {},
   "outputs": [],
   "source": [
    "import tensorflow as tf\n",
    "import gym\n",
    "import pickle\n",
    "import numpy as np\n",
    "import os"
   ]
  },
  {
   "cell_type": "code",
   "execution_count": 2,
   "metadata": {},
   "outputs": [],
   "source": [
    "import sys\n",
    "sys.path.insert(0, '/data/apps/roboschool/agent_zoo/')\n",
    "\n",
    "from RoboschoolHalfCheetah_v1_2017jul import ZooPolicyTensorflow as ZooPolicyTensorflow_RoboschoolHalfCheetah_v1\n",
    "from RoboschoolHumanoid_v1_2017jul import ZooPolicyTensorflow as ZooPolicyTensorflow_RoboschoolHumanoid_v1"
   ]
  },
  {
   "cell_type": "code",
   "execution_count": 3,
   "metadata": {},
   "outputs": [],
   "source": [
    "rollouts_dir = 'expert_data'\n",
    "rollouts_num = 1000\n",
    "# env_name = \"RoboschoolHalfCheetah-v1\"\n",
    "env_name = \"RoboschoolHumanoid-v1\""
   ]
  },
  {
   "cell_type": "code",
   "execution_count": 4,
   "metadata": {},
   "outputs": [],
   "source": [
    "roll_out_file = os.path.join(rollouts_dir, env_name + '_dagger_2.pkl')\n",
    "result_file = os.path.join(rollouts_dir, env_name + '_results.pkl')\n",
    "dagger_file = os.path.join(rollouts_dir, env_name + '_dagger_3.pkl')"
   ]
  },
  {
   "cell_type": "code",
   "execution_count": 5,
   "metadata": {},
   "outputs": [],
   "source": [
    "# read roll-outs\n",
    "with open(roll_out_file, 'rb') as f:\n",
    "    roll_outs = pickle.loads(f.read())"
   ]
  },
  {
   "cell_type": "code",
   "execution_count": 6,
   "metadata": {},
   "outputs": [
    {
     "name": "stdout",
     "output_type": "stream",
     "text": [
      "(1240369, 44)\n",
      "(1240369, 17)\n"
     ]
    }
   ],
   "source": [
    "print(roll_outs['observations'].shape)\n",
    "print(roll_outs['actions'].shape)"
   ]
  },
  {
   "cell_type": "code",
   "execution_count": 7,
   "metadata": {},
   "outputs": [],
   "source": [
    "# read results\n",
    "with open(result_file, 'rb') as f:\n",
    "    results = pickle.loads(f.read())"
   ]
  },
  {
   "cell_type": "code",
   "execution_count": 8,
   "metadata": {},
   "outputs": [
    {
     "name": "stdout",
     "output_type": "stream",
     "text": [
      "(742047, 44)\n"
     ]
    }
   ],
   "source": [
    "print(results['observations'].shape)"
   ]
  },
  {
   "cell_type": "code",
   "execution_count": 9,
   "metadata": {},
   "outputs": [
    {
     "name": "stdout",
     "output_type": "stream",
     "text": [
      "\u001b[33mWARN: gym.spaces.Box autodetected dtype as <class 'numpy.float32'>. Please provide explicit dtype.\u001b[0m\n",
      "\u001b[33mWARN: gym.spaces.Box autodetected dtype as <class 'numpy.float32'>. Please provide explicit dtype.\u001b[0m\n",
      "\u001b[33mWARN: Environment '<class 'roboschool.gym_mujoco_walkers.RoboschoolHumanoid'>' has deprecated methods '_step' and '_reset' rather than 'step' and 'reset'. Compatibility code invoked. Set _gym_disable_underscore_compat = True to disable this behavior.\u001b[0m\n"
     ]
    },
    {
     "name": "stderr",
     "output_type": "stream",
     "text": [
      "/data/apps/anaconda3/envs/cs294/lib/python3.6/site-packages/gym/envs/registration.py:14: PkgResourcesDeprecationWarning: Parameters to load are deprecated.  Call .resolve and .require separately.\n",
      "  result = entry_point.load(False)\n"
     ]
    }
   ],
   "source": [
    "sess = tf.InteractiveSession()\n",
    "env = gym.make(env_name)\n",
    "if (env_name == \"RoboschoolHalfCheetah-v1\"):\n",
    "    ZooPolicyTensorflow = ZooPolicyTensorflow_RoboschoolHalfCheetah_v1\n",
    "elif (env_name == \"RoboschoolHumanoid-v1\"):\n",
    "    ZooPolicyTensorflow = ZooPolicyTensorflow_RoboschoolHumanoid_v1\n",
    "pi = ZooPolicyTensorflow(\"mymodel1\", env.observation_space, env.action_space)"
   ]
  },
  {
   "cell_type": "code",
   "execution_count": 10,
   "metadata": {},
   "outputs": [],
   "source": [
    "actions = []\n",
    "for obs in results['observations']:\n",
    "    actions.append(pi.act(obs, env))\n",
    "env.close()"
   ]
  },
  {
   "cell_type": "code",
   "execution_count": 11,
   "metadata": {},
   "outputs": [],
   "source": [
    "expert_data = {'observations': np.concatenate((roll_outs['observations'], results['observations'])),\n",
    "               'actions': np.concatenate((roll_outs['actions'], np.array(actions)))}\n",
    "with open(dagger_file, 'wb') as f:\n",
    "    pickle.dump(expert_data, f, pickle.HIGHEST_PROTOCOL)"
   ]
  },
  {
   "cell_type": "code",
   "execution_count": 12,
   "metadata": {},
   "outputs": [
    {
     "data": {
      "text/plain": [
       "(1982416, 44)"
      ]
     },
     "execution_count": 12,
     "metadata": {},
     "output_type": "execute_result"
    }
   ],
   "source": [
    "np.concatenate((roll_outs['observations'], results['observations'])).shape"
   ]
  },
  {
   "cell_type": "code",
   "execution_count": null,
   "metadata": {},
   "outputs": [],
   "source": []
  }
 ],
 "metadata": {
  "kernelspec": {
   "display_name": "Python 3",
   "language": "python",
   "name": "python3"
  },
  "language_info": {
   "codemirror_mode": {
    "name": "ipython",
    "version": 3
   },
   "file_extension": ".py",
   "mimetype": "text/x-python",
   "name": "python",
   "nbconvert_exporter": "python",
   "pygments_lexer": "ipython3",
   "version": "3.6.7"
  }
 },
 "nbformat": 4,
 "nbformat_minor": 2
}
