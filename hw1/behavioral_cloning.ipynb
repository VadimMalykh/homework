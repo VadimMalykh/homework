{
 "cells": [
  {
   "cell_type": "markdown",
   "metadata": {},
   "source": [
    "http://rail.eecs.berkeley.edu/deeprlcourse/static/homeworks/hw1.pdf"
   ]
  },
  {
   "cell_type": "code",
   "execution_count": 1,
   "metadata": {},
   "outputs": [
    {
     "name": "stderr",
     "output_type": "stream",
     "text": [
      "Using TensorFlow backend.\n"
     ]
    }
   ],
   "source": [
    "import pickle\n",
    "import keras"
   ]
  },
  {
   "cell_type": "code",
   "execution_count": 2,
   "metadata": {},
   "outputs": [],
   "source": [
    "roll_out_file = 'expert_data/HalfCheetah-v2_100000.pkl'"
   ]
  },
  {
   "cell_type": "code",
   "execution_count": 3,
   "metadata": {},
   "outputs": [],
   "source": [
    "# read roll-outs\n",
    "with open(roll_out_file, 'rb') as f:\n",
    "    roll_outs = pickle.loads(f.read())"
   ]
  },
  {
   "cell_type": "code",
   "execution_count": 4,
   "metadata": {},
   "outputs": [
    {
     "name": "stdout",
     "output_type": "stream",
     "text": [
      "(100000, 17)\n",
      "(100000, 1, 6)\n"
     ]
    }
   ],
   "source": [
    "print(roll_outs['observations'].shape)\n",
    "print(roll_outs['actions'].shape)"
   ]
  },
  {
   "cell_type": "code",
   "execution_count": 5,
   "metadata": {},
   "outputs": [
    {
     "data": {
      "text/plain": [
       "array([-0.09422073,  0.661275  , -0.99417096,  0.77345955,  0.0859557 ,\n",
       "        0.03971581], dtype=float32)"
      ]
     },
     "execution_count": 5,
     "metadata": {},
     "output_type": "execute_result"
    }
   ],
   "source": [
    "roll_outs['actions'][0][0]"
   ]
  },
  {
   "cell_type": "code",
   "execution_count": 6,
   "metadata": {},
   "outputs": [],
   "source": [
    "from keras.layers import Input, Dense\n",
    "from keras.models import Model\n",
    "\n",
    "def create_model(input_size, output_size):\n",
    "    inputs = Input(shape=(input_size,))\n",
    "    \n",
    "    x = Dense(20, activation='relu')(inputs)\n",
    "    x = Dense(10, activation='relu')(x)\n",
    "    \n",
    "    predictions = Dense(output_size)(x)\n",
    "    \n",
    "    return Model(inputs=inputs, outputs=predictions)"
   ]
  },
  {
   "cell_type": "code",
   "execution_count": 7,
   "metadata": {},
   "outputs": [],
   "source": [
    "model = create_model(17, 6)"
   ]
  },
  {
   "cell_type": "code",
   "execution_count": 8,
   "metadata": {},
   "outputs": [
    {
     "name": "stdout",
     "output_type": "stream",
     "text": [
      "_________________________________________________________________\n",
      "Layer (type)                 Output Shape              Param #   \n",
      "=================================================================\n",
      "input_1 (InputLayer)         (None, 17)                0         \n",
      "_________________________________________________________________\n",
      "dense_1 (Dense)              (None, 20)                360       \n",
      "_________________________________________________________________\n",
      "dense_2 (Dense)              (None, 10)                210       \n",
      "_________________________________________________________________\n",
      "dense_3 (Dense)              (None, 6)                 66        \n",
      "=================================================================\n",
      "Total params: 636\n",
      "Trainable params: 636\n",
      "Non-trainable params: 0\n",
      "_________________________________________________________________\n"
     ]
    }
   ],
   "source": [
    "model.summary()"
   ]
  },
  {
   "cell_type": "code",
   "execution_count": 9,
   "metadata": {},
   "outputs": [],
   "source": [
    "model.compile(loss='mean_squared_error', optimizer='adam')"
   ]
  },
  {
   "cell_type": "code",
   "execution_count": 11,
   "metadata": {},
   "outputs": [],
   "source": [
    "X = roll_outs['observations']\n",
    "Y = roll_outs['actions'].reshape((-1, 6))"
   ]
  },
  {
   "cell_type": "code",
   "execution_count": 12,
   "metadata": {},
   "outputs": [
    {
     "name": "stdout",
     "output_type": "stream",
     "text": [
      "Epoch 1/100\n",
      "100000/100000 [==============================] - 1s 15us/step - loss: 0.5830\n",
      "Epoch 2/100\n",
      "100000/100000 [==============================] - 1s 8us/step - loss: 0.1279\n",
      "Epoch 3/100\n",
      "100000/100000 [==============================] - 1s 8us/step - loss: 0.0914\n",
      "Epoch 4/100\n",
      "100000/100000 [==============================] - 1s 8us/step - loss: 0.0732\n",
      "Epoch 5/100\n",
      "100000/100000 [==============================] - 1s 8us/step - loss: 0.0605\n",
      "Epoch 6/100\n",
      "100000/100000 [==============================] - 1s 8us/step - loss: 0.0505\n",
      "Epoch 7/100\n",
      "100000/100000 [==============================] - 1s 8us/step - loss: 0.0430\n",
      "Epoch 8/100\n",
      "100000/100000 [==============================] - 1s 8us/step - loss: 0.0376\n",
      "Epoch 9/100\n",
      "100000/100000 [==============================] - 1s 8us/step - loss: 0.0337\n",
      "Epoch 10/100\n",
      "100000/100000 [==============================] - 1s 8us/step - loss: 0.0306\n",
      "Epoch 11/100\n",
      "100000/100000 [==============================] - 1s 8us/step - loss: 0.0279\n",
      "Epoch 12/100\n",
      "100000/100000 [==============================] - 1s 8us/step - loss: 0.0257\n",
      "Epoch 13/100\n",
      "100000/100000 [==============================] - 1s 8us/step - loss: 0.0237\n",
      "Epoch 14/100\n",
      "100000/100000 [==============================] - 1s 8us/step - loss: 0.0217\n",
      "Epoch 15/100\n",
      "100000/100000 [==============================] - 1s 8us/step - loss: 0.0200\n",
      "Epoch 16/100\n",
      "100000/100000 [==============================] - 1s 8us/step - loss: 0.0187\n",
      "Epoch 17/100\n",
      "100000/100000 [==============================] - 1s 8us/step - loss: 0.0176\n",
      "Epoch 18/100\n",
      "100000/100000 [==============================] - 1s 8us/step - loss: 0.0168\n",
      "Epoch 19/100\n",
      "100000/100000 [==============================] - 1s 8us/step - loss: 0.0161\n",
      "Epoch 20/100\n",
      "100000/100000 [==============================] - 1s 8us/step - loss: 0.0153\n",
      "Epoch 21/100\n",
      "100000/100000 [==============================] - 1s 8us/step - loss: 0.0148\n",
      "Epoch 22/100\n",
      "100000/100000 [==============================] - 1s 9us/step - loss: 0.0143\n",
      "Epoch 23/100\n",
      "100000/100000 [==============================] - 1s 8us/step - loss: 0.0137\n",
      "Epoch 24/100\n",
      "100000/100000 [==============================] - 1s 8us/step - loss: 0.0133\n",
      "Epoch 25/100\n",
      "100000/100000 [==============================] - 1s 9us/step - loss: 0.0129\n",
      "Epoch 26/100\n",
      "100000/100000 [==============================] - 1s 9us/step - loss: 0.0126\n",
      "Epoch 27/100\n",
      "100000/100000 [==============================] - 1s 8us/step - loss: 0.0122\n",
      "Epoch 28/100\n",
      "100000/100000 [==============================] - 1s 8us/step - loss: 0.0120\n",
      "Epoch 29/100\n",
      "100000/100000 [==============================] - 1s 8us/step - loss: 0.0118\n",
      "Epoch 30/100\n",
      "100000/100000 [==============================] - 1s 8us/step - loss: 0.0115\n",
      "Epoch 31/100\n",
      "100000/100000 [==============================] - 1s 8us/step - loss: 0.0113\n",
      "Epoch 32/100\n",
      "100000/100000 [==============================] - 1s 8us/step - loss: 0.0111\n",
      "Epoch 33/100\n",
      "100000/100000 [==============================] - 1s 8us/step - loss: 0.0109\n",
      "Epoch 34/100\n",
      "100000/100000 [==============================] - 1s 8us/step - loss: 0.0108\n",
      "Epoch 35/100\n",
      "100000/100000 [==============================] - 1s 8us/step - loss: 0.0106\n",
      "Epoch 36/100\n",
      "100000/100000 [==============================] - 1s 8us/step - loss: 0.0104\n",
      "Epoch 37/100\n",
      "100000/100000 [==============================] - 1s 8us/step - loss: 0.0102\n",
      "Epoch 38/100\n",
      "100000/100000 [==============================] - 1s 8us/step - loss: 0.0100\n",
      "Epoch 39/100\n",
      "100000/100000 [==============================] - 1s 8us/step - loss: 0.0099\n",
      "Epoch 40/100\n",
      "100000/100000 [==============================] - 1s 8us/step - loss: 0.0097\n",
      "Epoch 41/100\n",
      "100000/100000 [==============================] - 1s 8us/step - loss: 0.0096\n",
      "Epoch 42/100\n",
      "100000/100000 [==============================] - 1s 9us/step - loss: 0.0094\n",
      "Epoch 43/100\n",
      "100000/100000 [==============================] - 1s 9us/step - loss: 0.0093\n",
      "Epoch 44/100\n",
      "100000/100000 [==============================] - 1s 8us/step - loss: 0.0092\n",
      "Epoch 45/100\n",
      "100000/100000 [==============================] - 1s 8us/step - loss: 0.0091\n",
      "Epoch 46/100\n",
      "100000/100000 [==============================] - 1s 7us/step - loss: 0.0090\n",
      "Epoch 47/100\n",
      "100000/100000 [==============================] - 1s 8us/step - loss: 0.0089\n",
      "Epoch 48/100\n",
      "100000/100000 [==============================] - 1s 8us/step - loss: 0.0088\n",
      "Epoch 49/100\n",
      "100000/100000 [==============================] - 1s 7us/step - loss: 0.0088\n",
      "Epoch 50/100\n",
      "100000/100000 [==============================] - 1s 8us/step - loss: 0.0087\n",
      "Epoch 51/100\n",
      "100000/100000 [==============================] - 1s 8us/step - loss: 0.0086\n",
      "Epoch 52/100\n",
      "100000/100000 [==============================] - 1s 8us/step - loss: 0.0085\n",
      "Epoch 53/100\n",
      "100000/100000 [==============================] - 1s 8us/step - loss: 0.0084\n",
      "Epoch 54/100\n",
      "100000/100000 [==============================] - 1s 8us/step - loss: 0.0084\n",
      "Epoch 55/100\n",
      "100000/100000 [==============================] - 1s 7us/step - loss: 0.0083\n",
      "Epoch 56/100\n",
      "100000/100000 [==============================] - 1s 7us/step - loss: 0.0082\n",
      "Epoch 57/100\n",
      "100000/100000 [==============================] - 1s 8us/step - loss: 0.0082\n",
      "Epoch 58/100\n",
      "100000/100000 [==============================] - 1s 8us/step - loss: 0.0081\n",
      "Epoch 59/100\n",
      "100000/100000 [==============================] - 1s 8us/step - loss: 0.0080\n",
      "Epoch 60/100\n",
      "100000/100000 [==============================] - 1s 7us/step - loss: 0.0080\n",
      "Epoch 61/100\n",
      "100000/100000 [==============================] - 1s 8us/step - loss: 0.0079\n",
      "Epoch 62/100\n",
      "100000/100000 [==============================] - 1s 8us/step - loss: 0.0079\n",
      "Epoch 63/100\n",
      "100000/100000 [==============================] - 1s 8us/step - loss: 0.0078\n",
      "Epoch 64/100\n",
      "100000/100000 [==============================] - 1s 8us/step - loss: 0.0078\n",
      "Epoch 65/100\n",
      "100000/100000 [==============================] - 1s 8us/step - loss: 0.0077\n",
      "Epoch 66/100\n",
      "100000/100000 [==============================] - 1s 8us/step - loss: 0.0077\n",
      "Epoch 67/100\n",
      "100000/100000 [==============================] - 1s 8us/step - loss: 0.0076\n",
      "Epoch 68/100\n",
      "100000/100000 [==============================] - 1s 8us/step - loss: 0.0076\n",
      "Epoch 69/100\n",
      "100000/100000 [==============================] - 1s 7us/step - loss: 0.0075\n",
      "Epoch 70/100\n",
      "100000/100000 [==============================] - 1s 7us/step - loss: 0.0075\n",
      "Epoch 71/100\n",
      "100000/100000 [==============================] - 1s 7us/step - loss: 0.0075\n",
      "Epoch 72/100\n",
      "100000/100000 [==============================] - 1s 7us/step - loss: 0.0075\n",
      "Epoch 73/100\n",
      "100000/100000 [==============================] - 1s 7us/step - loss: 0.0074\n",
      "Epoch 74/100\n",
      "100000/100000 [==============================] - 1s 7us/step - loss: 0.0074\n",
      "Epoch 75/100\n",
      "100000/100000 [==============================] - 1s 8us/step - loss: 0.0073\n",
      "Epoch 76/100\n",
      "100000/100000 [==============================] - 1s 8us/step - loss: 0.0073\n",
      "Epoch 77/100\n",
      "100000/100000 [==============================] - 1s 8us/step - loss: 0.0073\n",
      "Epoch 78/100\n",
      "100000/100000 [==============================] - 1s 8us/step - loss: 0.0073\n",
      "Epoch 79/100\n",
      "100000/100000 [==============================] - 1s 8us/step - loss: 0.0072\n",
      "Epoch 80/100\n",
      "100000/100000 [==============================] - 1s 8us/step - loss: 0.0072\n",
      "Epoch 81/100\n",
      "100000/100000 [==============================] - 1s 7us/step - loss: 0.0072\n",
      "Epoch 82/100\n",
      "100000/100000 [==============================] - 1s 7us/step - loss: 0.0071\n",
      "Epoch 83/100\n",
      "100000/100000 [==============================] - 1s 7us/step - loss: 0.0071\n",
      "Epoch 84/100\n",
      "100000/100000 [==============================] - 1s 8us/step - loss: 0.0071\n",
      "Epoch 85/100\n",
      "100000/100000 [==============================] - 1s 8us/step - loss: 0.0071\n",
      "Epoch 86/100\n",
      "100000/100000 [==============================] - 1s 8us/step - loss: 0.0070\n",
      "Epoch 87/100\n",
      "100000/100000 [==============================] - 1s 8us/step - loss: 0.0070\n",
      "Epoch 88/100\n",
      "100000/100000 [==============================] - 1s 8us/step - loss: 0.0070\n",
      "Epoch 89/100\n",
      "100000/100000 [==============================] - 1s 9us/step - loss: 0.0070\n",
      "Epoch 90/100\n",
      "100000/100000 [==============================] - 1s 8us/step - loss: 0.0069\n",
      "Epoch 91/100\n",
      "100000/100000 [==============================] - 1s 8us/step - loss: 0.0069\n",
      "Epoch 92/100\n",
      "100000/100000 [==============================] - 1s 8us/step - loss: 0.0069\n",
      "Epoch 93/100\n"
     ]
    },
    {
     "name": "stdout",
     "output_type": "stream",
     "text": [
      "100000/100000 [==============================] - 1s 8us/step - loss: 0.0069\n",
      "Epoch 94/100\n",
      "100000/100000 [==============================] - 1s 8us/step - loss: 0.0068\n",
      "Epoch 95/100\n",
      "100000/100000 [==============================] - 1s 8us/step - loss: 0.0068\n",
      "Epoch 96/100\n",
      "100000/100000 [==============================] - 1s 8us/step - loss: 0.0068\n",
      "Epoch 97/100\n",
      "100000/100000 [==============================] - 1s 8us/step - loss: 0.0068\n",
      "Epoch 98/100\n",
      "100000/100000 [==============================] - 1s 8us/step - loss: 0.0067\n",
      "Epoch 99/100\n",
      "100000/100000 [==============================] - 1s 8us/step - loss: 0.0067\n",
      "Epoch 100/100\n",
      "100000/100000 [==============================] - 1s 8us/step - loss: 0.0067\n"
     ]
    },
    {
     "data": {
      "text/plain": [
       "<keras.callbacks.History at 0x7f232f27e828>"
      ]
     },
     "execution_count": 12,
     "metadata": {},
     "output_type": "execute_result"
    }
   ],
   "source": [
    "model.fit(X, Y, epochs=100, batch_size=200)"
   ]
  },
  {
   "cell_type": "code",
   "execution_count": null,
   "metadata": {},
   "outputs": [
    {
     "name": "stderr",
     "output_type": "stream",
     "text": [
      "/data/apps/anaconda3/envs/cs294/lib/python3.6/site-packages/gym/envs/registration.py:14: PkgResourcesDeprecationWarning: Parameters to load are deprecated.  Call .resolve and .require separately.\n",
      "  result = entry_point.load(False)\n"
     ]
    }
   ],
   "source": [
    "# test our model with actual environment\n",
    "import gym\n",
    "env = gym.make('HalfCheetah-v2')\n",
    "obs = env.reset()\n",
    "while true:\n",
    "    env.render()\n",
    "    obs, reward, done, _ = env.step(model.predict(obs))\n",
    "    if done:\n",
    "        break"
   ]
  },
  {
   "cell_type": "code",
   "execution_count": null,
   "metadata": {},
   "outputs": [],
   "source": []
  }
 ],
 "metadata": {
  "kernelspec": {
   "display_name": "Python 3",
   "language": "python",
   "name": "python3"
  },
  "language_info": {
   "codemirror_mode": {
    "name": "ipython",
    "version": 3
   },
   "file_extension": ".py",
   "mimetype": "text/x-python",
   "name": "python",
   "nbconvert_exporter": "python",
   "pygments_lexer": "ipython3",
   "version": "3.6.7"
  }
 },
 "nbformat": 4,
 "nbformat_minor": 2
}
